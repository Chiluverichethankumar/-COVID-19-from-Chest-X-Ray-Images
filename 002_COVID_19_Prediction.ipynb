{
 "cells": [
  {
   "cell_type": "markdown",
   "metadata": {},
   "source": [
    "<small><small><i>\n",
    "All the IPython Notebooks in **Python Data Analytics Projects** lecture series by **[Dr. Milaan Parmar](https://www.linkedin.com/in/milaanparmar/)** are available @ **[GitHub](https://github.com/milaan9/93_Python_Data_Analytics_Projects)**\n",
    "</i></small></small>"
   ]
  },
  {
   "cell_type": "markdown",
   "metadata": {},
   "source": [
    "# Predicting COVID-19 from Chest X-Ray Images"
   ]
  },
  {
   "cell_type": "markdown",
   "metadata": {
    "id": "fRbHjr7_h15g"
   },
   "source": [
    "### STEP 1: IMPORTING LIBRARIES"
   ]
  },
  {
   "cell_type": "code",
   "execution_count": 1,
   "metadata": {
    "id": "rnSEp3G0hDb-"
   },
   "outputs": [],
   "source": [
    "from tensorflow.keras.models import Sequential\n",
    "from tensorflow.keras.layers import Conv2D, MaxPool2D,Dropout, Flatten, Dense\n",
    "from tensorflow.keras.optimizers import Adam\n",
    "from tensorflow.keras.preprocessing.image import ImageDataGenerator\n",
    "import numpy as np\n",
    "import pandas as pd\n",
    "import matplotlib.pyplot as plt\n"
   ]
  },
  {
   "cell_type": "markdown",
   "metadata": {
    "id": "rW6aaFW2lBJD"
   },
   "source": [
    "### STEP 2: CLONING DATASET"
   ]
  },
  {
   "cell_type": "code",
   "execution_count": 1,
   "metadata": {
    "colab": {
     "base_uri": "https://localhost:8080/"
    },
    "id": "49_yJrcvK4JE",
    "outputId": "152dc877-71b6-4a00-e7ec-ecc3756d343c"
   },
   "outputs": [
    {
     "name": "stderr",
     "output_type": "stream",
     "text": [
      "Cloning into '-COVID-19-from-Chest-X-Ray-Images'...\n",
      "git: 'remote-hhttps' is not a git command. See 'git --help'.\n",
      "\n",
      "The most similar command is\n",
      "\tremote-https\n"
     ]
    }
   ],
   "source": [
    "# CLONING THE DATASET FROM THE GITHUB REPOSITORY\n",
    "!git clone hhttps://github.com/Chiluverichethankumar/-COVID-19-from-Chest-X-Ray-Images.git"
   ]
  },
  {
   "cell_type": "code",
   "execution_count": 2,
   "metadata": {
    "id": "coTeQAClsBct"
   },
   "outputs": [],
   "source": [
    "import os\n",
    "\n",
    "main_dir = \"D:\\Stady\\IBM\\all 6\\93_Python_Data_Analytics_Projects\\002_COVID19_Prediction_from_Chest_Xray_Images_with_CNN\\Chext-X-ray-Images-Data-Set\\DataSet\\My data\"\n",
    "\n",
    "# SETTING TRAIN AND TEST DIRECTORY\n",
    "train_dir = os.path.join(main_dir, \"train\")\n",
    "test_dir = os.path.join(main_dir, \"test\")\n",
    "\n",
    "#SETING DIRECTORY FOR COVID AND NORMAL IMAGES DIRECTORY\n",
    "train_covid_dir = os.path.join(train_dir, \"COVID19\")\n",
    "train_normal_dir = os.path.join(train_dir, \"NORMAL\")\n",
    "\n",
    "test_covid_dir = os.path.join(test_dir, \"COVID19\")\n",
    "test_normal_dir = os.path.join(test_dir, \"NORMAL\")\n"
   ]
  },
  {
   "cell_type": "code",
   "execution_count": 9,
   "metadata": {
    "id": "qrjdlJhEl0JP"
   },
   "outputs": [
    {
     "ename": "NameError",
     "evalue": "name 'train' is not defined",
     "output_type": "error",
     "traceback": [
      "\u001b[1;31m---------------------------------------------------------------------------\u001b[0m",
      "\u001b[1;31mNameError\u001b[0m                                 Traceback (most recent call last)",
      "Cell \u001b[1;32mIn[9], line 2\u001b[0m\n\u001b[0;32m      1\u001b[0m \u001b[39m# MAKING SEPERATE FILES : \u001b[39;00m\n\u001b[1;32m----> 2\u001b[0m train_covid_names \u001b[39m=\u001b[39m os\u001b[39m.\u001b[39mlistdir(train)\n\u001b[0;32m      3\u001b[0m train_normal_names \u001b[39m=\u001b[39m os\u001b[39m.\u001b[39mlistdir(normal)\n\u001b[0;32m      5\u001b[0m test_covid_names \u001b[39m=\u001b[39m os\u001b[39m.\u001b[39mlistdir(test_covid_dir)\n",
      "\u001b[1;31mNameError\u001b[0m: name 'train' is not defined"
     ]
    }
   ],
   "source": [
    "# MAKING SEPERATE FILES : \n",
    "train_covid_names = os.listdir(train_covid_dir)\n",
    "train_normal_names = os.listdir(train_normal_dir)\n",
    "\n",
    "test_covid_names = os.listdir(test_covid_dir)\n",
    "test_normal_names = os.listdir(test_normal_dir)"
   ]
  },
  {
   "cell_type": "markdown",
   "metadata": {
    "id": "jaBxwqhQjN7s"
   },
   "source": [
    "### STEP 3: PERFORMING DATA VISUALIZATION"
   ]
  },
  {
   "cell_type": "code",
   "execution_count": 5,
   "metadata": {
    "colab": {
     "base_uri": "https://localhost:8080/",
     "height": 751
    },
    "id": "v1vukdx6i7Ns",
    "outputId": "0dd73765-c564-4b86-ec6d-cb4c8ec925dd"
   },
   "outputs": [
    {
     "ename": "NameError",
     "evalue": "name 'train_covid_names' is not defined",
     "output_type": "error",
     "traceback": [
      "\u001b[1;31m---------------------------------------------------------------------------\u001b[0m",
      "\u001b[1;31mNameError\u001b[0m                                 Traceback (most recent call last)",
      "Cell \u001b[1;32mIn[5], line 9\u001b[0m\n\u001b[0;32m      6\u001b[0m fig \u001b[39m=\u001b[39m plt\u001b[39m.\u001b[39mgcf()\n\u001b[0;32m      7\u001b[0m fig\u001b[39m.\u001b[39mset_size_inches(\u001b[39m12\u001b[39m,\u001b[39m12\u001b[39m)\n\u001b[1;32m----> 9\u001b[0m covid_img \u001b[39m=\u001b[39m [os\u001b[39m.\u001b[39mpath\u001b[39m.\u001b[39mjoin(train_covid_dir, filename) \u001b[39mfor\u001b[39;00m filename \u001b[39min\u001b[39;00m train_covid_names[\u001b[39m0\u001b[39m:\u001b[39m8\u001b[39m]]\n\u001b[0;32m     10\u001b[0m normal_img \u001b[39m=\u001b[39m [os\u001b[39m.\u001b[39mpath\u001b[39m.\u001b[39mjoin(train_normal_dir, filename) \u001b[39mfor\u001b[39;00m filename \u001b[39min\u001b[39;00m train_normal_names[\u001b[39m0\u001b[39m:\u001b[39m8\u001b[39m]]\n\u001b[0;32m     12\u001b[0m \u001b[39mprint\u001b[39m(covid_img)\n",
      "\u001b[1;31mNameError\u001b[0m: name 'train_covid_names' is not defined"
     ]
    },
    {
     "data": {
      "text/plain": [
       "<Figure size 1200x1200 with 0 Axes>"
      ]
     },
     "metadata": {},
     "output_type": "display_data"
    }
   ],
   "source": [
    "import matplotlib.image as mpimg\n",
    "\n",
    "rows = 4\n",
    "columns = 4\n",
    "\n",
    "fig = plt.gcf()\n",
    "fig.set_size_inches(12,12)\n",
    "\n",
    "covid_img = [os.path.join(train_covid_dir, filename) for filename in train_covid_names[0:8]]\n",
    "normal_img = [os.path.join(train_normal_dir, filename) for filename in train_normal_names[0:8]]\n",
    "\n",
    "print(covid_img)\n",
    "print(normal_img)\n",
    "\n",
    "merged_img = covid_img + normal_img\n",
    "\n",
    "for i, img_path in enumerate(merged_img):\n",
    "  title = img_path.split(\"/\", 6)[6]\n",
    "  plot = plt.subplot(rows, columns, i+1)\n",
    "  plot.axis(\"Off\")\n",
    "  img = mpimg.imread(img_path)\n",
    "  plot.set_title(title, fontsize = 11)\n",
    "  plt.imshow(img, cmap= \"gray\")\n",
    "\n",
    "plt.show()"
   ]
  },
  {
   "cell_type": "markdown",
   "metadata": {
    "id": "FoUt5-kL0Vl-"
   },
   "source": [
    "# 4) DATA PREPROCESSING AND AUGMENTATION"
   ]
  },
  {
   "cell_type": "code",
   "execution_count": 6,
   "metadata": {
    "colab": {
     "base_uri": "https://localhost:8080/"
    },
    "id": "zbNjqDKh0oVp",
    "outputId": "925bfbad-6b30-41df-f13c-50f9f6146e9c"
   },
   "outputs": [
    {
     "ename": "OSError",
     "evalue": "[WinError 123] The filename, directory name, or volume label syntax is incorrect: 'D:\\\\Stady\\\\IBM\\x07ll 6\\\\93_Python_Data_Analytics_Projects\\x02_COVID19_Prediction_from_Chest_Xray_Images_with_CNN\\\\Chext-X-ray-Images-Data-Set\\\\DataSet\\\\Data\\\\train'",
     "output_type": "error",
     "traceback": [
      "\u001b[1;31m---------------------------------------------------------------------------\u001b[0m",
      "\u001b[1;31mOSError\u001b[0m                                   Traceback (most recent call last)",
      "Cell \u001b[1;32mIn[6], line 14\u001b[0m\n\u001b[0;32m      8\u001b[0m dgen_validation \u001b[39m=\u001b[39m ImageDataGenerator(rescale \u001b[39m=\u001b[39m \u001b[39m1.\u001b[39m\u001b[39m/\u001b[39m\u001b[39m255\u001b[39m,\n\u001b[0;32m      9\u001b[0m                                      )\n\u001b[0;32m     11\u001b[0m dgen_test \u001b[39m=\u001b[39m ImageDataGenerator(rescale \u001b[39m=\u001b[39m \u001b[39m1.\u001b[39m\u001b[39m/\u001b[39m\u001b[39m255\u001b[39m,\n\u001b[0;32m     12\u001b[0m                               )\n\u001b[1;32m---> 14\u001b[0m train_generator \u001b[39m=\u001b[39m dgen_train\u001b[39m.\u001b[39;49mflow_from_directory(train_dir,\n\u001b[0;32m     15\u001b[0m                                                  target_size \u001b[39m=\u001b[39;49m (\u001b[39m150\u001b[39;49m, \u001b[39m150\u001b[39;49m), \n\u001b[0;32m     16\u001b[0m                                                  subset \u001b[39m=\u001b[39;49m \u001b[39m'\u001b[39;49m\u001b[39mtraining\u001b[39;49m\u001b[39m'\u001b[39;49m,\n\u001b[0;32m     17\u001b[0m                                                  batch_size \u001b[39m=\u001b[39;49m \u001b[39m32\u001b[39;49m,\n\u001b[0;32m     18\u001b[0m                                                  class_mode \u001b[39m=\u001b[39;49m \u001b[39m'\u001b[39;49m\u001b[39mbinary\u001b[39;49m\u001b[39m'\u001b[39;49m)\n\u001b[0;32m     19\u001b[0m validation_generator \u001b[39m=\u001b[39m dgen_train\u001b[39m.\u001b[39mflow_from_directory(train_dir,\n\u001b[0;32m     20\u001b[0m                                                       target_size \u001b[39m=\u001b[39m (\u001b[39m150\u001b[39m, \u001b[39m150\u001b[39m), \n\u001b[0;32m     21\u001b[0m                                                       subset \u001b[39m=\u001b[39m \u001b[39m\"\u001b[39m\u001b[39mvalidation\u001b[39m\u001b[39m\"\u001b[39m, \n\u001b[0;32m     22\u001b[0m                                                       batch_size \u001b[39m=\u001b[39m \u001b[39m32\u001b[39m, \n\u001b[0;32m     23\u001b[0m                                                       class_mode \u001b[39m=\u001b[39m \u001b[39m\"\u001b[39m\u001b[39mbinary\u001b[39m\u001b[39m\"\u001b[39m)\n\u001b[0;32m     24\u001b[0m test_generator \u001b[39m=\u001b[39m dgen_test\u001b[39m.\u001b[39mflow_from_directory(test_dir,\n\u001b[0;32m     25\u001b[0m                                                target_size \u001b[39m=\u001b[39m (\u001b[39m150\u001b[39m, \u001b[39m150\u001b[39m), \n\u001b[0;32m     26\u001b[0m                                                batch_size \u001b[39m=\u001b[39m \u001b[39m32\u001b[39m, \n\u001b[0;32m     27\u001b[0m                                                class_mode \u001b[39m=\u001b[39m \u001b[39m\"\u001b[39m\u001b[39mbinary\u001b[39m\u001b[39m\"\u001b[39m)\n",
      "File \u001b[1;32m~\\AppData\\Roaming\\Python\\Python310\\site-packages\\keras\\src\\preprocessing\\image.py:1648\u001b[0m, in \u001b[0;36mImageDataGenerator.flow_from_directory\u001b[1;34m(self, directory, target_size, color_mode, classes, class_mode, batch_size, shuffle, seed, save_to_dir, save_prefix, save_format, follow_links, subset, interpolation, keep_aspect_ratio)\u001b[0m\n\u001b[0;32m   1562\u001b[0m \u001b[39mdef\u001b[39;00m \u001b[39mflow_from_directory\u001b[39m(\n\u001b[0;32m   1563\u001b[0m     \u001b[39mself\u001b[39m,\n\u001b[0;32m   1564\u001b[0m     directory,\n\u001b[1;32m   (...)\u001b[0m\n\u001b[0;32m   1578\u001b[0m     keep_aspect_ratio\u001b[39m=\u001b[39m\u001b[39mFalse\u001b[39;00m,\n\u001b[0;32m   1579\u001b[0m ):\n\u001b[0;32m   1580\u001b[0m \u001b[39m    \u001b[39m\u001b[39m\"\"\"Takes the path to a directory & generates batches of augmented data.\u001b[39;00m\n\u001b[0;32m   1581\u001b[0m \n\u001b[0;32m   1582\u001b[0m \u001b[39m    Args:\u001b[39;00m\n\u001b[1;32m   (...)\u001b[0m\n\u001b[0;32m   1646\u001b[0m \u001b[39m            and `y` is a numpy array of corresponding labels.\u001b[39;00m\n\u001b[0;32m   1647\u001b[0m \u001b[39m    \"\"\"\u001b[39;00m\n\u001b[1;32m-> 1648\u001b[0m     \u001b[39mreturn\u001b[39;00m DirectoryIterator(\n\u001b[0;32m   1649\u001b[0m         directory,\n\u001b[0;32m   1650\u001b[0m         \u001b[39mself\u001b[39;49m,\n\u001b[0;32m   1651\u001b[0m         target_size\u001b[39m=\u001b[39;49mtarget_size,\n\u001b[0;32m   1652\u001b[0m         color_mode\u001b[39m=\u001b[39;49mcolor_mode,\n\u001b[0;32m   1653\u001b[0m         keep_aspect_ratio\u001b[39m=\u001b[39;49mkeep_aspect_ratio,\n\u001b[0;32m   1654\u001b[0m         classes\u001b[39m=\u001b[39;49mclasses,\n\u001b[0;32m   1655\u001b[0m         class_mode\u001b[39m=\u001b[39;49mclass_mode,\n\u001b[0;32m   1656\u001b[0m         data_format\u001b[39m=\u001b[39;49m\u001b[39mself\u001b[39;49m\u001b[39m.\u001b[39;49mdata_format,\n\u001b[0;32m   1657\u001b[0m         batch_size\u001b[39m=\u001b[39;49mbatch_size,\n\u001b[0;32m   1658\u001b[0m         shuffle\u001b[39m=\u001b[39;49mshuffle,\n\u001b[0;32m   1659\u001b[0m         seed\u001b[39m=\u001b[39;49mseed,\n\u001b[0;32m   1660\u001b[0m         save_to_dir\u001b[39m=\u001b[39;49msave_to_dir,\n\u001b[0;32m   1661\u001b[0m         save_prefix\u001b[39m=\u001b[39;49msave_prefix,\n\u001b[0;32m   1662\u001b[0m         save_format\u001b[39m=\u001b[39;49msave_format,\n\u001b[0;32m   1663\u001b[0m         follow_links\u001b[39m=\u001b[39;49mfollow_links,\n\u001b[0;32m   1664\u001b[0m         subset\u001b[39m=\u001b[39;49msubset,\n\u001b[0;32m   1665\u001b[0m         interpolation\u001b[39m=\u001b[39;49minterpolation,\n\u001b[0;32m   1666\u001b[0m         dtype\u001b[39m=\u001b[39;49m\u001b[39mself\u001b[39;49m\u001b[39m.\u001b[39;49mdtype,\n\u001b[0;32m   1667\u001b[0m     )\n",
      "File \u001b[1;32m~\\AppData\\Roaming\\Python\\Python310\\site-packages\\keras\\src\\preprocessing\\image.py:563\u001b[0m, in \u001b[0;36mDirectoryIterator.__init__\u001b[1;34m(self, directory, image_data_generator, target_size, color_mode, classes, class_mode, batch_size, shuffle, seed, data_format, save_to_dir, save_prefix, save_format, follow_links, subset, interpolation, keep_aspect_ratio, dtype)\u001b[0m\n\u001b[0;32m    561\u001b[0m \u001b[39mif\u001b[39;00m \u001b[39mnot\u001b[39;00m classes:\n\u001b[0;32m    562\u001b[0m     classes \u001b[39m=\u001b[39m []\n\u001b[1;32m--> 563\u001b[0m     \u001b[39mfor\u001b[39;00m subdir \u001b[39min\u001b[39;00m \u001b[39msorted\u001b[39m(os\u001b[39m.\u001b[39;49mlistdir(directory)):\n\u001b[0;32m    564\u001b[0m         \u001b[39mif\u001b[39;00m os\u001b[39m.\u001b[39mpath\u001b[39m.\u001b[39misdir(os\u001b[39m.\u001b[39mpath\u001b[39m.\u001b[39mjoin(directory, subdir)):\n\u001b[0;32m    565\u001b[0m             classes\u001b[39m.\u001b[39mappend(subdir)\n",
      "\u001b[1;31mOSError\u001b[0m: [WinError 123] The filename, directory name, or volume label syntax is incorrect: 'D:\\\\Stady\\\\IBM\\x07ll 6\\\\93_Python_Data_Analytics_Projects\\x02_COVID19_Prediction_from_Chest_Xray_Images_with_CNN\\\\Chext-X-ray-Images-Data-Set\\\\DataSet\\\\Data\\\\train'"
     ]
    }
   ],
   "source": [
    "# CREATING TRAINING, TESTING AND VALIDATION BATCHES\n",
    "\n",
    "dgen_train = ImageDataGenerator(rescale = 1./255,\n",
    "                                validation_split = 0.2,\n",
    "                                zoom_range = 0.2,\n",
    "                                horizontal_flip = True)\n",
    "\n",
    "dgen_validation = ImageDataGenerator(rescale = 1./255,\n",
    "                                     )\n",
    "\n",
    "dgen_test = ImageDataGenerator(rescale = 1./255,\n",
    "                              )\n",
    "\n",
    "train_generator = dgen_train.flow_from_directory(train_dir,\n",
    "                                                 target_size = (150, 150), \n",
    "                                                 subset = 'training',\n",
    "                                                 batch_size = 32,\n",
    "                                                 class_mode = 'binary')\n",
    "validation_generator = dgen_train.flow_from_directory(train_dir,\n",
    "                                                      target_size = (150, 150), \n",
    "                                                      subset = \"validation\", \n",
    "                                                      batch_size = 32, \n",
    "                                                      class_mode = \"binary\")\n",
    "test_generator = dgen_test.flow_from_directory(test_dir,\n",
    "                                               target_size = (150, 150), \n",
    "                                               batch_size = 32, \n",
    "                                               class_mode = \"binary\")\n",
    "\n",
    "\n"
   ]
  },
  {
   "cell_type": "code",
   "execution_count": 7,
   "metadata": {
    "colab": {
     "base_uri": "https://localhost:8080/"
    },
    "id": "zbX345gc7ts_",
    "outputId": "10dffa5c-8085-4889-8e87-9ca9a2b2e6c9"
   },
   "outputs": [
    {
     "ename": "NameError",
     "evalue": "name 'train_generator' is not defined",
     "output_type": "error",
     "traceback": [
      "\u001b[1;31m---------------------------------------------------------------------------\u001b[0m",
      "\u001b[1;31mNameError\u001b[0m                                 Traceback (most recent call last)",
      "Cell \u001b[1;32mIn[7], line 1\u001b[0m\n\u001b[1;32m----> 1\u001b[0m \u001b[39mprint\u001b[39m(\u001b[39m\"\u001b[39m\u001b[39mClass Labels are: \u001b[39m\u001b[39m\"\u001b[39m, train_generator\u001b[39m.\u001b[39mclass_indices)\n\u001b[0;32m      2\u001b[0m \u001b[39mprint\u001b[39m(\u001b[39m\"\u001b[39m\u001b[39mImage shape is : \u001b[39m\u001b[39m\"\u001b[39m, train_generator\u001b[39m.\u001b[39mimage_shape)\n",
      "\u001b[1;31mNameError\u001b[0m: name 'train_generator' is not defined"
     ]
    }
   ],
   "source": [
    "print(\"Class Labels are: \", train_generator.class_indices)\n",
    "print(\"Image shape is : \", train_generator.image_shape)"
   ]
  },
  {
   "cell_type": "markdown",
   "metadata": {
    "id": "7VEcgF069qvG"
   },
   "source": [
    "### STEP 5: BUILDING CONVOLUTIONAL NEURAL NETWORK MODEL"
   ]
  },
  {
   "cell_type": "code",
   "execution_count": 8,
   "metadata": {
    "colab": {
     "base_uri": "https://localhost:8080/"
    },
    "id": "lHf8xDcI9ww1",
    "outputId": "149440bd-dd9b-4d2d-e57a-a4cdc29aba54"
   },
   "outputs": [
    {
     "ename": "NameError",
     "evalue": "name 'train_generator' is not defined",
     "output_type": "error",
     "traceback": [
      "\u001b[1;31m---------------------------------------------------------------------------\u001b[0m",
      "\u001b[1;31mNameError\u001b[0m                                 Traceback (most recent call last)",
      "Cell \u001b[1;32mIn[8], line 6\u001b[0m\n\u001b[0;32m      3\u001b[0m model \u001b[39m=\u001b[39m Sequential()\n\u001b[0;32m      5\u001b[0m \u001b[39m# 1) CONVOLUTIONAL LAYER - 1\u001b[39;00m\n\u001b[1;32m----> 6\u001b[0m model\u001b[39m.\u001b[39madd(Conv2D(\u001b[39m32\u001b[39m, (\u001b[39m5\u001b[39m,\u001b[39m5\u001b[39m), padding \u001b[39m=\u001b[39m \u001b[39m\"\u001b[39m\u001b[39msame\u001b[39m\u001b[39m\"\u001b[39m, activation \u001b[39m=\u001b[39m \u001b[39m\"\u001b[39m\u001b[39mrelu\u001b[39m\u001b[39m\"\u001b[39m, input_shape \u001b[39m=\u001b[39m train_generator\u001b[39m.\u001b[39mimage_shape))\n\u001b[0;32m      8\u001b[0m \u001b[39m# 2) POOLING LAYER - 1\u001b[39;00m\n\u001b[0;32m      9\u001b[0m model\u001b[39m.\u001b[39madd(MaxPooling2D(pool_size\u001b[39m=\u001b[39m(\u001b[39m2\u001b[39m,\u001b[39m2\u001b[39m)))\n",
      "\u001b[1;31mNameError\u001b[0m: name 'train_generator' is not defined"
     ]
    }
   ],
   "source": [
    "from tensorflow.keras.layers import Conv2D, MaxPooling2D\n",
    "\n",
    "model = Sequential()\n",
    "\n",
    "# 1) CONVOLUTIONAL LAYER - 1\n",
    "model.add(Conv2D(32, (5,5), padding = \"same\", activation = \"relu\", input_shape = train_generator.image_shape))\n",
    "\n",
    "# 2) POOLING LAYER - 1\n",
    "model.add(MaxPooling2D(pool_size=(2,2)))\n",
    "\n",
    "# 3) DROPOUT LAYER -2\n",
    "model.add(Dropout(0.5))\n",
    "\n",
    "# 4) CONVOLUTIONAL LAYER - 2\n",
    "model.add(Conv2D(64, (5,5), padding = \"same\", activation = \"relu\"))\n",
    "\n",
    "# 5) POOLING LAYER - 2\n",
    "model.add(MaxPooling2D(pool_size=(2,2)))\n",
    "\n",
    "# 6) DROPOUT LAYER - 2\n",
    "model.add(Dropout(0.5))\n",
    "\n",
    "# 7) FLATTENING LAYER TO 2D SHAPE\n",
    "model.add(Flatten())\n",
    "\n",
    "# 8) ADDING A DENSE LAYER\n",
    "model.add(Dense(256, activation = 'relu'))\n",
    "\n",
    "# 9 DROPOUT LAYER - 3\n",
    "model.add(Dropout(0.5))\n",
    "\n",
    "# 10) FINAL OUTPUT LAYER\n",
    "model.add(Dense(1, activation = 'sigmoid'))\n",
    "\n",
    "### PRINTING MODEL SUMMARY\n",
    "model.summary()\n",
    "\n"
   ]
  },
  {
   "cell_type": "markdown",
   "metadata": {
    "id": "u-TtLE52DRH1"
   },
   "source": [
    "### STEP 6: COMPILING AND TRAINING THE NEURAL NETWORK MODEL"
   ]
  },
  {
   "cell_type": "code",
   "execution_count": null,
   "metadata": {
    "id": "lqiio4h4C9g5"
   },
   "outputs": [],
   "source": [
    "# COMPILING THE MODEL\n",
    "\n",
    "model.compile(Adam(learning_rate = 0.001), loss = 'binary_crossentropy', metrics = ['accuracy'])"
   ]
  },
  {
   "cell_type": "code",
   "execution_count": null,
   "metadata": {
    "colab": {
     "base_uri": "https://localhost:8080/"
    },
    "id": "p0rfWKc0D4xT",
    "outputId": "d355549a-7f7d-4c94-f1ec-9eb3233a968d"
   },
   "outputs": [
    {
     "name": "stdout",
     "output_type": "stream",
     "text": [
      "Epoch 1/35\n",
      "46/46 [==============================] - 86s 1s/step - loss: 1.6890 - accuracy: 0.6860 - val_loss: 0.4387 - val_accuracy: 0.8094\n",
      "Epoch 2/35\n",
      "46/46 [==============================] - 54s 1s/step - loss: 0.2818 - accuracy: 0.8834 - val_loss: 0.2612 - val_accuracy: 0.9171\n",
      "Epoch 3/35\n",
      "46/46 [==============================] - 55s 1s/step - loss: 0.1723 - accuracy: 0.9296 - val_loss: 0.1252 - val_accuracy: 0.9586\n",
      "Epoch 4/35\n",
      "46/46 [==============================] - 55s 1s/step - loss: 0.1349 - accuracy: 0.9510 - val_loss: 0.1156 - val_accuracy: 0.9613\n",
      "Epoch 5/35\n",
      "46/46 [==============================] - 55s 1s/step - loss: 0.1374 - accuracy: 0.9524 - val_loss: 0.1280 - val_accuracy: 0.9669\n",
      "Epoch 6/35\n",
      "46/46 [==============================] - 54s 1s/step - loss: 0.1345 - accuracy: 0.9496 - val_loss: 0.0928 - val_accuracy: 0.9641\n",
      "Epoch 7/35\n",
      "46/46 [==============================] - 54s 1s/step - loss: 0.1256 - accuracy: 0.9620 - val_loss: 0.0900 - val_accuracy: 0.9669\n",
      "Epoch 8/35\n",
      "46/46 [==============================] - 54s 1s/step - loss: 0.1114 - accuracy: 0.9572 - val_loss: 0.0788 - val_accuracy: 0.9724\n",
      "Epoch 9/35\n",
      "46/46 [==============================] - 54s 1s/step - loss: 0.1131 - accuracy: 0.9614 - val_loss: 0.1023 - val_accuracy: 0.9586\n",
      "Epoch 10/35\n",
      "46/46 [==============================] - 54s 1s/step - loss: 0.1062 - accuracy: 0.9607 - val_loss: 0.0801 - val_accuracy: 0.9669\n",
      "Epoch 11/35\n",
      "46/46 [==============================] - 54s 1s/step - loss: 0.0917 - accuracy: 0.9717 - val_loss: 0.0900 - val_accuracy: 0.9751\n",
      "Epoch 12/35\n",
      "46/46 [==============================] - 55s 1s/step - loss: 0.1062 - accuracy: 0.9634 - val_loss: 0.0578 - val_accuracy: 0.9834\n",
      "Epoch 13/35\n",
      "46/46 [==============================] - 55s 1s/step - loss: 0.0956 - accuracy: 0.9689 - val_loss: 0.0772 - val_accuracy: 0.9751\n",
      "Epoch 14/35\n",
      "46/46 [==============================] - 54s 1s/step - loss: 0.0834 - accuracy: 0.9710 - val_loss: 0.0616 - val_accuracy: 0.9834\n",
      "Epoch 15/35\n",
      "46/46 [==============================] - 55s 1s/step - loss: 0.0863 - accuracy: 0.9703 - val_loss: 0.0916 - val_accuracy: 0.9696\n",
      "Epoch 16/35\n",
      "46/46 [==============================] - 54s 1s/step - loss: 0.0792 - accuracy: 0.9758 - val_loss: 0.0673 - val_accuracy: 0.9807\n",
      "Epoch 17/35\n",
      "46/46 [==============================] - 54s 1s/step - loss: 0.0774 - accuracy: 0.9731 - val_loss: 0.0805 - val_accuracy: 0.9751\n",
      "Epoch 18/35\n",
      "46/46 [==============================] - 55s 1s/step - loss: 0.0740 - accuracy: 0.9814 - val_loss: 0.0557 - val_accuracy: 0.9862\n",
      "Epoch 19/35\n",
      "46/46 [==============================] - 54s 1s/step - loss: 0.0679 - accuracy: 0.9800 - val_loss: 0.0652 - val_accuracy: 0.9807\n",
      "Epoch 20/35\n",
      "46/46 [==============================] - 54s 1s/step - loss: 0.0735 - accuracy: 0.9786 - val_loss: 0.0627 - val_accuracy: 0.9779\n",
      "Epoch 21/35\n",
      "46/46 [==============================] - 55s 1s/step - loss: 0.0862 - accuracy: 0.9710 - val_loss: 0.0790 - val_accuracy: 0.9779\n",
      "Epoch 22/35\n",
      "46/46 [==============================] - 54s 1s/step - loss: 0.0796 - accuracy: 0.9779 - val_loss: 0.0627 - val_accuracy: 0.9669\n",
      "Epoch 23/35\n",
      "46/46 [==============================] - 54s 1s/step - loss: 0.0625 - accuracy: 0.9786 - val_loss: 0.0538 - val_accuracy: 0.9862\n",
      "Epoch 24/35\n",
      "46/46 [==============================] - 54s 1s/step - loss: 0.0472 - accuracy: 0.9862 - val_loss: 0.0539 - val_accuracy: 0.9834\n",
      "Epoch 25/35\n",
      "46/46 [==============================] - 54s 1s/step - loss: 0.0534 - accuracy: 0.9827 - val_loss: 0.0498 - val_accuracy: 0.9779\n",
      "Epoch 26/35\n",
      "46/46 [==============================] - 54s 1s/step - loss: 0.0521 - accuracy: 0.9848 - val_loss: 0.0551 - val_accuracy: 0.9807\n",
      "Epoch 27/35\n",
      "46/46 [==============================] - 54s 1s/step - loss: 0.0486 - accuracy: 0.9848 - val_loss: 0.0583 - val_accuracy: 0.9834\n",
      "Epoch 28/35\n",
      "46/46 [==============================] - 54s 1s/step - loss: 0.0558 - accuracy: 0.9821 - val_loss: 0.1104 - val_accuracy: 0.9613\n",
      "Epoch 29/35\n",
      "46/46 [==============================] - 54s 1s/step - loss: 0.0542 - accuracy: 0.9821 - val_loss: 0.0477 - val_accuracy: 0.9862\n",
      "Epoch 30/35\n",
      "46/46 [==============================] - 54s 1s/step - loss: 0.0893 - accuracy: 0.9683 - val_loss: 0.0656 - val_accuracy: 0.9834\n",
      "Epoch 31/35\n",
      "46/46 [==============================] - 54s 1s/step - loss: 0.0618 - accuracy: 0.9772 - val_loss: 0.0918 - val_accuracy: 0.9669\n",
      "Epoch 32/35\n",
      "46/46 [==============================] - 54s 1s/step - loss: 0.0594 - accuracy: 0.9821 - val_loss: 0.0457 - val_accuracy: 0.9862\n",
      "Epoch 33/35\n",
      "46/46 [==============================] - 54s 1s/step - loss: 0.0528 - accuracy: 0.9827 - val_loss: 0.0636 - val_accuracy: 0.9751\n",
      "Epoch 34/35\n",
      "46/46 [==============================] - 54s 1s/step - loss: 0.0544 - accuracy: 0.9800 - val_loss: 0.0601 - val_accuracy: 0.9807\n",
      "Epoch 35/35\n",
      "46/46 [==============================] - 54s 1s/step - loss: 0.0490 - accuracy: 0.9841 - val_loss: 0.0759 - val_accuracy: 0.9751\n"
     ]
    }
   ],
   "source": [
    "# TRAINING THE MODEL\n",
    "history = model.fit(train_generator, \n",
    "                    epochs = 35, \n",
    "                    validation_data = validation_generator)"
   ]
  },
  {
   "cell_type": "markdown",
   "metadata": {
    "id": "Kgnh2nt0Fmkn"
   },
   "source": [
    "# 7) PERFORMING EVALUATION\n"
   ]
  },
  {
   "cell_type": "code",
   "execution_count": null,
   "metadata": {
    "colab": {
     "base_uri": "https://localhost:8080/"
    },
    "id": "hibMkhG6EicR",
    "outputId": "dee6bdc0-eeca-4a63-d8d4-4e1b05893f75"
   },
   "outputs": [
    {
     "data": {
      "text/plain": [
       "dict_keys(['loss', 'accuracy', 'val_loss', 'val_accuracy'])"
      ]
     },
     "execution_count": 11,
     "metadata": {},
     "output_type": "execute_result"
    }
   ],
   "source": [
    "# KEYS OF HISTORY OBJECT\n",
    "history.history.keys()"
   ]
  },
  {
   "cell_type": "code",
   "execution_count": null,
   "metadata": {
    "colab": {
     "base_uri": "https://localhost:8080/",
     "height": 312
    },
    "id": "3O70F1eJNgal",
    "outputId": "806ecdc2-13fa-41aa-e623-886e79c71f60"
   },
   "outputs": [
    {
     "data": {
      "text/plain": [
       "Text(0.5, 0, 'epoch')"
      ]
     },
     "execution_count": 12,
     "metadata": {},
     "output_type": "execute_result"
    },
    {
     "data": {
      "image/png": "[encoded data removed]",
      "text/plain": [
       "<Figure size 432x288 with 1 Axes>"
      ]
     },
     "metadata": {
      "needs_background": "light"
     },
     "output_type": "display_data"
    }
   ],
   "source": [
    "# PLOT GRAPH BETWEEN TRAINING AND VALIDATION LOSS\n",
    "plt.plot(history.history['loss'])\n",
    "plt.plot(history.history['val_loss'])\n",
    "plt.legend(['Training', 'Validation'])\n",
    "plt.title(\"Training and validation losses\")\n",
    "plt.xlabel('epoch')"
   ]
  },
  {
   "cell_type": "code",
   "execution_count": null,
   "metadata": {
    "colab": {
     "base_uri": "https://localhost:8080/",
     "height": 312
    },
    "id": "OPhMjhY6OLTD",
    "outputId": "9110d059-d420-44be-87b5-30d73a487a9f"
   },
   "outputs": [
    {
     "data": {
      "text/plain": [
       "Text(0.5, 0, 'epoch')"
      ]
     },
     "execution_count": 13,
     "metadata": {},
     "output_type": "execute_result"
    },
    {
     "data": {
      "image/png": "[encoded data removed]",
      "text/plain": [
       "<Figure size 432x288 with 1 Axes>"
      ]
     },
     "metadata": {
      "needs_background": "light"
     },
     "output_type": "display_data"
    }
   ],
   "source": [
    "# PLOT GRAPH BETWEEN TRAINING AND VALIDATION ACCURACY\n",
    "plt.plot(history.history['accuracy'])\n",
    "plt.plot(history.history['val_accuracy'])\n",
    "plt.legend(['Training', 'Validation'])\n",
    "plt.title(\"Training and validation accuracy\")\n",
    "plt.xlabel('epoch')"
   ]
  },
  {
   "cell_type": "code",
   "execution_count": null,
   "metadata": {
    "colab": {
     "base_uri": "https://localhost:8080/"
    },
    "id": "DhNrVHcdR5hv",
    "outputId": "0b8ceae4-3806-4ecc-ac30-1077760141cd"
   },
   "outputs": [
    {
     "name": "stdout",
     "output_type": "stream",
     "text": [
      "16/16 [==============================] - 12s 760ms/step - loss: 0.1141 - accuracy: 0.9483\n",
      "Test Set Loss :  0.1140921488404274\n",
      "Test Set Accuracy :  0.9483470916748047\n"
     ]
    }
   ],
   "source": [
    "# GETTING TEST ACCURACY AND LOSS\n",
    "\n",
    "test_loss, test_acc = model.evaluate(test_generator)\n",
    "print(\"Test Set Loss : \", test_loss)\n",
    "print(\"Test Set Accuracy : \", test_acc)"
   ]
  },
  {
   "cell_type": "markdown",
   "metadata": {
    "id": "9D1_WxGrUK0-"
   },
   "source": [
    "### STEP 7: PREDICTION ON NEW DATA (UPLOAD FILES)"
   ]
  },
  {
   "cell_type": "code",
   "execution_count": null,
   "metadata": {
    "colab": {
     "base_uri": "https://localhost:8080/",
     "height": 89,
     "resources": {
      "http://localhost:8080/nbextensions/google.colab/files.js": {
       "data": "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",
       "headers": [
        [
         "content-type",
         "application/javascript"
        ]
       ],
       "ok": true,
       "status": 200,
       "status_text": ""
      }
     }
    },
    "id": "n8_yCfFeUKgF",
    "outputId": "efcd064a-fc4a-4669-edd3-93b5182cf58e"
   },
   "outputs": [
    {
     "data": {
      "text/html": [
       "\n",
       "     <input type=\"file\" id=\"files-6019ffe5-054f-41a2-8e02-84436aada653\" name=\"files[]\" multiple disabled\n",
       "        style=\"border:none\" />\n",
       "     <output id=\"result-6019ffe5-054f-41a2-8e02-84436aada653\">\n",
       "      Upload widget is only available when the cell has been executed in the\n",
       "      current browser session. Please rerun this cell to enable.\n",
       "      </output>\n",
       "      <script src=\"/nbextensions/google.colab/files.js\"></script> "
      ],
      "text/plain": [
       "<IPython.core.display.HTML object>"
      ]
     },
     "metadata": {},
     "output_type": "display_data"
    },
    {
     "name": "stdout",
     "output_type": "stream",
     "text": [
      "Saving COVID-19 (479).jpg to COVID-19 (479).jpg\n",
      "The report is COVID-19 Negative\n"
     ]
    }
   ],
   "source": [
    "from google.colab import files\n",
    "from keras.preprocessing import image\n",
    "\n",
    "uploaded = files.upload()\n",
    "\n",
    "for filename in uploaded.keys():\n",
    "  img_path = '/content/' + filename\n",
    "  img = image.load_img(img_path, target_size = (150,150))\n",
    "  images = image.img_to_array(img)\n",
    "  images = np.expand_dims(images, axis = 0)\n",
    "  prediction = model.predict(images)\n",
    "  \n",
    "  if prediction == 0:\n",
    "    print(\"The report is COVID-19 Positive\")\n",
    "  else:\n",
    "    print(\"The report is COVID-19 Negative\")"
   ]
  },
  {
   "cell_type": "code",
   "execution_count": null,
   "metadata": {
    "id": "ahvYtH4s4r3r"
   },
   "outputs": [],
   "source": [
    "model.save(\"model.h5\")"
   ]
  }
 ],
 "metadata": {
  "accelerator": "GPU",
  "colab": {
   "collapsed_sections": [],
   "name": "Copy of COVID-19 Prediction.ipynb",
   "provenance": []
  },
  "kernelspec": {
   "display_name": "Python 3",
   "language": "python",
   "name": "python3"
  },
  "language_info": {
   "codemirror_mode": {
    "name": "ipython",
    "version": 3
   },
   "file_extension": ".py",
   "mimetype": "text/x-python",
   "name": "python",
   "nbconvert_exporter": "python",
   "pygments_lexer": "ipython3",
   "version": "3.10.4"
  }
 },
 "nbformat": 4,
 "nbformat_minor": 1
}
